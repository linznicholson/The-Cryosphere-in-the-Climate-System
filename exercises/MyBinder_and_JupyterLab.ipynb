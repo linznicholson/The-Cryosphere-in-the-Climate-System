{
 "cells": [
  {
   "cell_type": "markdown",
   "metadata": {},
   "source": [
    "# Introduction to the programming environment"
   ]
  },
  {
   "cell_type": "markdown",
   "metadata": {},
   "source": [
    "Welcome to this Introduction about the programming environment we are using for this course. Congratulations when you are here so this means you already managed to start the programming environment and opened the first notebook. What a notebook is will be explained in [Getting started with Jupyter Notebook](getting_started_with_notebooks.ipynb), here we first concentrate on the programming environment. "
   ]
  },
  {
   "cell_type": "markdown",
   "metadata": {},
   "source": [
    "## MyBinder"
   ]
  },
  {
   "cell_type": "markdown",
   "metadata": {},
   "source": [
    "When you started the link you first saw [MyBinder](https://mybinder.org/) starting up. This service allows us to create a custom computing environment that can be shared and used by many remote users ([MyBinder Documentation](https://mybinder.readthedocs.io/en/latest/). The big advantage of this service is that no one has to install anything on there computers and can start right away doing the exercises.\n",
    "\n",
    "Caution [MyBinder](https://mybinder.org/) is free but not unlimited. So this means if you are inactive for 10 minutes the Kernel will shut down. This means all your calculations are lost and you have to restart the whole notebook. Inactive means that no text is written and no code is executed. This is not a very big deal, you can start the Kernel again (see section [Restart Kernel](#Restart-Kernel)). But here is the first trap. \n",
    "\n",
    "**If MyBinder is running on a tab in the browser and this tab is not active for 10 min the server shut down and all your work is lost!!!** \n",
    "\n",
    "**Always make sure to run the exercises in an separeted window of the browser with no other tabs in it.**\n",
    "\n",
    "The second thing you must have in mind is that the programming environment is only temporary available. This means after you closed the environment all the work is gone. Therefore **do not forget to save and _download_ your work!!!** (see section [Save and download Files](#Save-and-download-Files))"
   ]
  },
  {
   "cell_type": "markdown",
   "metadata": {},
   "source": [
    "## JupyterLab"
   ]
  },
  {
   "cell_type": "markdown",
   "metadata": {},
   "source": [
    "After MyBinder has started you end up in a platform which is called [JupyterLab](https://jupyterlab.readthedocs.io/en/stable/). \"JupyterLab\" is the development environment allowing you to navigate between notebooks. You can see all available notebooks in the bar on the left. You can open a notebook with a double click or using the links of the start page. The open notebooks are displayed on the right side of the screen and you can switch between the open ones by using the tabs. In the following sections I describe functions we will need for the exercises, for a more comprehensive description look at the [JupyterLab Documentation](https://jupyterlab.readthedocs.io/en/stable/)."
   ]
  },
  {
   "cell_type": "markdown",
   "metadata": {},
   "source": [
    "### Save and download Files"
   ]
  },
  {
   "cell_type": "markdown",
   "metadata": {},
   "source": [
    "To save your work you first have to save the changes in an notebook on the server. There are several option to do this:\n",
    "\n",
    "- click on the discette in the top left corner of the notebook view\n",
    "- click on 'File' in the top left corner and then on 'Save Notebook' or 'Save Notebook As' (caution the name must include the folder structure)\n",
    "- or use keybord shortcuts\n",
    "\n",
    "After you saved the work on the server **do not forget to download your work** on your computer if you want to keep it. You can do this also in several ways:\n",
    "\n",
    "- right click on the notebook in the bar on the left and than 'Download'\n",
    "- click on 'File' in the top left corner and than on 'Download'\n",
    "\n",
    "I would recommend to rename the notebook after you downloaded it (maybe add your name at the end) so you can distinguish your work from the original notebook when you want to continue the work in a new session."
   ]
  },
  {
   "cell_type": "markdown",
   "metadata": {},
   "source": [
    "### Upload Files"
   ]
  },
  {
   "cell_type": "markdown",
   "metadata": {},
   "source": [
    "If you succesfully downloaded your work and want to continue on an other day you must upload your file to the \"JupyterLab\". To do so click on the upward pointing arrow above the bar with all the notebooks on the left. After you have uploaded your notebook you can open it with a double click."
   ]
  },
  {
   "cell_type": "markdown",
   "metadata": {},
   "source": [
    "### Restart Kernel"
   ]
  },
  {
   "cell_type": "markdown",
   "metadata": {},
   "source": [
    "In the Kernel the computing happens and also all your variables of an programm are saved. Each notebook has its own Kernel. Binder however close a Kernel of a notebook if there is no activity for 10 minutes (to save recources). No activity means no text/code writen or no code executed. The current Kernel of a notebook is displayed in the top right corner of the notebook view. An active Kernel displays 'Python 3' and inactive Kernel displays 'No Kernel'. To switch it back on click on 'No Kernel' and select 'Python 3'. After reactivation you have to start to execute your notebook again from the start and go through all calculations until you reach again your current cell."
   ]
  },
  {
   "cell_type": "markdown",
   "metadata": {},
   "source": [
    "[Back to the table of contents](welcome_notebook.ipynb)"
   ]
  }
 ],
 "metadata": {
  "kernelspec": {
   "display_name": "Python 3",
   "language": "python",
   "name": "python3"
  },
  "language_info": {
   "codemirror_mode": {
    "name": "ipython",
    "version": 3
   },
   "file_extension": ".py",
   "mimetype": "text/x-python",
   "name": "python",
   "nbconvert_exporter": "python",
   "pygments_lexer": "ipython3",
   "version": "3.7.6"
  },
  "toc": {
   "base_numbering": 1,
   "nav_menu": {},
   "number_sections": true,
   "sideBar": true,
   "skip_h1_title": false,
   "title_cell": "Table of Contents",
   "title_sidebar": "Contents",
   "toc_cell": false,
   "toc_position": {},
   "toc_section_display": true,
   "toc_window_display": false
  }
 },
 "nbformat": 4,
 "nbformat_minor": 4
}
